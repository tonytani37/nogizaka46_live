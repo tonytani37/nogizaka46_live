{
  "cells": [
    {
      "cell_type": "markdown",
      "metadata": {
        "id": "view-in-github",
        "colab_type": "text"
      },
      "source": [
        "<a href=\"https://colab.research.google.com/github/tonytani37/nogizaka46_live/blob/main/%E3%83%87%E3%83%BC%E3%82%BF%E9%9B%86%E8%A8%88%E3%81%97%E3%81%9F%E3%82%8A%E3%81%99%E3%82%8B%E3%82%B9%E3%82%AF%E3%83%AA%E3%83%97%E3%83%88.ipynb\" target=\"_parent\"><img src=\"https://colab.research.google.com/assets/colab-badge.svg\" alt=\"Open In Colab\"/></a>"
      ]
    },
    {
      "cell_type": "code",
      "source": [
        "import pandas as pd\n",
        "df = pd.read_csv('/content/乃木坂46ライブ一覧_20220529.csv')"
      ],
      "metadata": {
        "id": "pcCS4vUMzyJ-"
      },
      "execution_count": 2,
      "outputs": []
    },
    {
      "cell_type": "code",
      "source": [
        "# df[(df['曲順']==\"1\")&(df['種別']=='全体')&(df['部']=='1')].groupby('曲名').count().sort_values('曲順',ascending=False)\n",
        "# df[(df['曲順']==\"1\")&(df['種別']=='全体')].groupby(['曲名']).count().sort_values('曲順',ascending=False).to_csv('top.csv')\n",
        "# dfx.groupby('曲名').count().sort_values('曲順',ascending=False)\n",
        "# dfx.count()\n",
        "# df[(df['曲順']==\"1\")&(df['種別']=='全体')].groupby(['曲名','名称']).count().sort_values(['曲順'],ascending=False)"
      ],
      "metadata": {
        "id": "7Hy08c6_z2oX"
      },
      "execution_count": null,
      "outputs": []
    },
    {
      "cell_type": "code",
      "source": [
        "df[(df['種別']=='全体')&(ｄｆ['曲順'].str.contains('EN'))].groupby('曲名').count().sort_values('名称',ascending=False)"
      ],
      "metadata": {
        "id": "kT37vl64pm51"
      },
      "execution_count": null,
      "outputs": []
    },
    {
      "cell_type": "code",
      "source": [
        "df[(df['曲順']==\"1\")&(df['種別']=='全体')&(ｄｆ['曲名'].str.contains('狼'))]"
      ],
      "metadata": {
        "id": "TwVl5QM-1jiC"
      },
      "execution_count": null,
      "outputs": []
    },
    {
      "cell_type": "code",
      "source": [
        "df[(df['種別']=='全体')].groupby(['曲名']).count().sort_values('曲順',ascending=False).head(10)"
      ],
      "metadata": {
        "id": "NsCT5ar261Uc"
      },
      "execution_count": null,
      "outputs": []
    }
  ],
  "metadata": {
    "colab": {
      "collapsed_sections": [],
      "name": "Colaboratory へようこそ",
      "provenance": [],
      "include_colab_link": true
    },
    "kernelspec": {
      "display_name": "Python 3",
      "name": "python3"
    }
  },
  "nbformat": 4,
  "nbformat_minor": 0
}